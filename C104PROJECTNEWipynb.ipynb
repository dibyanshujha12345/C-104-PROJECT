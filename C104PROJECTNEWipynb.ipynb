{
  "nbformat": 4,
  "nbformat_minor": 0,
  "metadata": {
    "colab": {
      "name": "C104PROJECTNEWipynb",
      "provenance": [],
      "collapsed_sections": [],
      "authorship_tag": "ABX9TyMFB+kSDXMnNzqSuNG4KOQF",
      "include_colab_link": true
    },
    "kernelspec": {
      "name": "python3",
      "display_name": "Python 3"
    },
    "language_info": {
      "name": "python"
    }
  },
  "cells": [
    {
      "cell_type": "markdown",
      "metadata": {
        "id": "view-in-github",
        "colab_type": "text"
      },
      "source": [
        "<a href=\"https://colab.research.google.com/github/dibyanshujha12345/C-104-PROJECT/blob/main/C104PROJECTNEWipynb.ipynb\" target=\"_parent\"><img src=\"https://colab.research.google.com/assets/colab-badge.svg\" alt=\"Open In Colab\"/></a>"
      ]
    },
    {
      "cell_type": "code",
      "execution_count": 4,
      "metadata": {
        "id": "naTE9Eva1aCJ"
      },
      "outputs": [],
      "source": [
        "import csv\n",
        "with open('C104Filedata.csv',newline='') as f:\n",
        "  reader=csv.reader(f)\n",
        "  file_data=list(reader) \n",
        "\n",
        "\n",
        "\n",
        "file_data.pop(0)\n",
        "\n",
        "\n",
        "new_data=[]\n",
        "for i in range(len(file_data)):\n",
        "  n_num=file_data[i][2]\n",
        "  new_data.append(float(n_num))\n",
        "\n",
        "\n",
        " \n",
        "n=len(new_data)\n",
        "\n",
        "total=0\n",
        "\n",
        "\n",
        "for x in new_data:\n",
        "  total+=x\n",
        "\n"
      ]
    },
    {
      "cell_type": "code",
      "source": [
        "\n",
        "\n",
        "import csv\n",
        "with open('C104Filedata.csv',newline='') as f:\n",
        "  reader=csv.reader(f)\n",
        "  file_data=list(reader) \n",
        "\n",
        "\n",
        "\n",
        "file_data.pop(0)\n",
        "\n",
        "\n",
        "new_data=[]\n",
        "for i in range(len(file_data)):\n",
        "  n_num=file_data[i][2]\n",
        "  new_data.append(float(n_num))\n",
        "\n",
        "\n",
        "\n",
        "\n",
        "n=len(new_data)\n",
        "\n",
        "new_data.sort()\n",
        "\n",
        "if n%2==0:\n",
        "  median1=float(new_data[n//2])\n",
        "\n",
        "  median2=float(new_data[n//2-1])\n",
        "  median=(median1+median2)/2\n",
        "  \n",
        "\n",
        "else:\n",
        "  median=new_data[n+1//2]\n",
        "\n",
        "\n"
      ],
      "metadata": {
        "colab": {
          "base_uri": "https://localhost:8080/"
        },
        "id": "jfXeq5rp2ZCR",
        "outputId": "3ea9daa2-6dce-4dfa-faf3-796c86038d0c"
      },
      "execution_count": 18,
      "outputs": [
        {
          "output_type": "stream",
          "name": "stdout",
          "text": [
            "127.15775\n"
          ]
        }
      ]
    },
    {
      "cell_type": "code",
      "source": [
        "mean=total/n\n",
        "\n",
        "print(\"Mean is\",mean)\n",
        "print(\"Median is\",median)"
      ],
      "metadata": {
        "colab": {
          "base_uri": "https://localhost:8080/"
        },
        "id": "p7JBEAMF-hGu",
        "outputId": "55b66308-3b78-4c07-9273-551d86cfb60c"
      },
      "execution_count": 20,
      "outputs": [
        {
          "output_type": "stream",
          "name": "stdout",
          "text": [
            "Mean is 127.07942116079916\n",
            "Median is 127.15775\n"
          ]
        }
      ]
    },
    {
      "cell_type": "code",
      "source": [
        "from collections import Counter\n",
        "\n",
        "import csv\n",
        "with open('C104Filedata.csv',newline='') as f:\n",
        "  reader=csv.reader(f)\n",
        "  file_data=list(reader) \n",
        "\n",
        "\n",
        "\n",
        "file_data.pop(0)\n",
        "\n",
        "\n",
        "new_data=[]\n",
        "for i in range(len(file_data)):\n",
        "  n_num=file_data[i][2]\n",
        "  new_data.append(float(n_num))\n",
        "\n",
        "data=Counter(new_data)\n",
        "mode_data_for_range={\n",
        "    \"120-140\":0,\n",
        "    \"140-160\":0,\n",
        "    \"160-180\":0\n",
        "\n",
        "\n",
        "\n",
        "\n",
        "}\n",
        "\n",
        "for weight,occurence1,occurence2,occurence3 in data.items():\n",
        "  \n",
        "  if 120 < float(weight) < 140:\n",
        "    occurence1= mode_data_for_range[\"120-140\"] \n",
        "\n",
        "\n",
        "  elif 140 < float(weight) < 160:\n",
        "   occurence2= mode_data_for_range[\"140-160\"]\n",
        "\n",
        "\n",
        "  elif 160 < float(weight) < 180:\n",
        "   occurence3= mode_data_for_range[\"160-180\"]\n",
        "\n",
        "\n",
        "print(occurence1)\n",
        "print(occurence2)\n",
        "print(occurence3)\n",
        "\n",
        "\n"
      ],
      "metadata": {
        "colab": {
          "base_uri": "https://localhost:8080/",
          "height": 235
        },
        "id": "cCuR-DVI3I0X",
        "outputId": "787486e7-90ad-448e-bea6-8fbcbf65cc60"
      },
      "execution_count": 30,
      "outputs": [
        {
          "output_type": "error",
          "ename": "ValueError",
          "evalue": "ignored",
          "traceback": [
            "\u001b[0;31m---------------------------------------------------------------------------\u001b[0m",
            "\u001b[0;31mValueError\u001b[0m                                Traceback (most recent call last)",
            "\u001b[0;32m<ipython-input-30-fa8e9b1a1a82>\u001b[0m in \u001b[0;36m<module>\u001b[0;34m()\u001b[0m\n\u001b[1;32m     27\u001b[0m }\n\u001b[1;32m     28\u001b[0m \u001b[0;34m\u001b[0m\u001b[0m\n\u001b[0;32m---> 29\u001b[0;31m \u001b[0;32mfor\u001b[0m \u001b[0mweight\u001b[0m\u001b[0;34m,\u001b[0m\u001b[0moccurence1\u001b[0m\u001b[0;34m,\u001b[0m\u001b[0moccurence2\u001b[0m\u001b[0;34m,\u001b[0m\u001b[0moccurence3\u001b[0m \u001b[0;32min\u001b[0m \u001b[0mdata\u001b[0m\u001b[0;34m.\u001b[0m\u001b[0mitems\u001b[0m\u001b[0;34m(\u001b[0m\u001b[0;34m)\u001b[0m\u001b[0;34m:\u001b[0m\u001b[0;34m\u001b[0m\u001b[0;34m\u001b[0m\u001b[0m\n\u001b[0m\u001b[1;32m     30\u001b[0m \u001b[0;34m\u001b[0m\u001b[0m\n\u001b[1;32m     31\u001b[0m   \u001b[0;32mif\u001b[0m \u001b[0;36m120\u001b[0m \u001b[0;34m<\u001b[0m \u001b[0mfloat\u001b[0m\u001b[0;34m(\u001b[0m\u001b[0mweight\u001b[0m\u001b[0;34m)\u001b[0m \u001b[0;34m<\u001b[0m \u001b[0;36m140\u001b[0m\u001b[0;34m:\u001b[0m\u001b[0;34m\u001b[0m\u001b[0;34m\u001b[0m\u001b[0m\n",
            "\u001b[0;31mValueError\u001b[0m: not enough values to unpack (expected 4, got 2)"
          ]
        }
      ]
    }
  ]
}